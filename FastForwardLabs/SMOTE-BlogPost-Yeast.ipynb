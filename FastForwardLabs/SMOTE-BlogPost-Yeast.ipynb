{
 "cells": [
  {
   "cell_type": "code",
   "execution_count": 9,
   "metadata": {
    "collapsed": false
   },
   "outputs": [],
   "source": [
    "%matplotlib inline\n",
    "\n",
    "import sys\n",
    "import numpy as np\n",
    "import pandas as pd\n",
    "\n",
    "import matplotlib.pyplot as plt\n",
    "import matplotlib\n",
    "matplotlib.style.use('ggplot')\n",
    "import seaborn as sns\n",
    "sns.set(style=\"ticks\", color_codes=True)\n",
    "\n",
    "from sklearn.metrics import f1_score\n",
    "from sklearn.cross_validation import cross_val_score\n",
    "from sklearn.grid_search import GridSearchCV\n",
    "from sklearn.linear_model import LogisticRegression\n",
    "from sklearn.ensemble import RandomForestClassifier\n",
    "from sklearn.svm import LinearSVC\n",
    "from sklearn.svm import SVC\n",
    "from sklearn.decomposition import PCA\n",
    "from sklearn.preprocessing import StandardScaler\n",
    "\n",
    "from unbalanced_dataset.over_sampling import SMOTE\n",
    "\n",
    "import warnings\n",
    "warnings.filterwarnings('ignore')"
   ]
  },
  {
   "cell_type": "markdown",
   "metadata": {},
   "source": [
    "## Getting the SMOTE python package\n",
    "\n",
    "To use the SMOTE package there are two good options. \n",
    "\n",
    "There is a pip install method with [directions](http://contrib.scikit-learn.org/imbalanced-learn/install.html#install).\n",
    "\n",
    "You can also get it by doing the following steps (this is what I did):\n",
    "\n",
    "git clone https://github.com/fmfn/UnbalancedDataset.git \n",
    "cd UnbalancedDataset \n",
    "python setup.py install\n",
    "\n",
    "The setup is done so that this does not have to be in the same path as other work you are doing. \n",
    "\n",
    "### The options for running SMOTE\n",
    "The smote function that comes from the repository has a number of optional arguments listed in the wiki https://github.com/fmfn/UnbalancedDataset/wiki.  These options for SMOTE are :\n",
    "\n",
    "1. 'regular'\n",
    "2. 'borderline1'\n",
    "3. 'borderline2'\n",
    "4. 'svm'\n",
    "\n",
    "The wiki discusses the optional arguments that one can use with each of these types. These are tuning parameters one could learn using cross-validation.  For this discussion we focus on the 'regular' method.  "
   ]
  },
  {
   "cell_type": "markdown",
   "metadata": {},
   "source": [
    "## The data\n",
    "\n",
    "We use the yeast data set avaible through the [UCI Machine Learning repository](https://archive.ics.uci.edu/ml/datasets/Yeast). I exported the data, preprocessed for certain one versus other groupings from the [KEEL data repository](http://www.keel.es/).  The [UCI repository](https://archive.ics.uci.edu/ml/datasets.html) is extensive and useful.  More information and references for this data set are available there, we give a very brief summary here as we are not concerned with feature selection or the deeper biological aspects of this data set right now.  These would be interesting for further study.  \n",
    "\n",
    "There are 1484 samples with 9 attributes total.  The attributes consist of 8 predictors and the corresponding classifications. The categories consist of 10 localization sites of certain proteins.  We discuss three possible one vs. other categorizations.  Following the labels in the Keel repository, Yeast1 is the Nuclear (or NUC) location vs. the rest, Yeast3 is the ME3 location vs. the rest, and Yeast6 is the Extracellular (or EXC) location vs. the rest.  Detailed descriptions are available on the Data Set Description page within the UCI repository.  We chose this dataset and class breakdown because, within a single data set, we can see how class size works with SMOTE.  Here are the breakdowns for the class sizes for the three datasets. \n",
    "\n",
    "\n",
    "Yeast1:  429 minority samples, 28.9%\n",
    "\n",
    "Yeast3:  163 minority samples, 10.99%\n",
    "\n",
    "Yeast6:   37 minority samples,  2.36%"
   ]
  },
  {
   "cell_type": "code",
   "execution_count": 10,
   "metadata": {
    "collapsed": false
   },
   "outputs": [],
   "source": [
    "#Load the three data sets. \n",
    "\n",
    "df1 = pd.read_csv('/Users/ataylor/Insight/blogPosts/FastForwardLabs/yeast1.csv') #Yeast1\n",
    "df3 = pd.read_csv('/Users/ataylor/Insight/blogPosts/FastForwardLabs/yeast3.csv') #Yeast3\n",
    "df6 = pd.read_csv('/Users/ataylor/Insight/blogPosts/FastForwardLabs/yeast6.csv') #Yeast6"
   ]
  },
  {
   "cell_type": "code",
   "execution_count": 11,
   "metadata": {
    "collapsed": false
   },
   "outputs": [
    {
     "name": "stdout",
     "output_type": "stream",
     "text": [
      "429\n",
      "163\n",
      "35\n"
     ]
    }
   ],
   "source": [
    "#Sanity check on sizes of minority classes.\n",
    "\n",
    "print len(df1[df1.Class == 'positive'])\n",
    "print len(df3[df3.Class == 'positive'])\n",
    "print len(df6[df6.Class == 'positive'])"
   ]
  },
  {
   "cell_type": "code",
   "execution_count": 12,
   "metadata": {
    "collapsed": false
   },
   "outputs": [],
   "source": [
    "#Some classifiers and other functions behave better when the classes \n",
    "#are 0/1 and the variable name is not \"Class\".\n",
    "\n",
    "df1['Class'] = df1['Class'].replace({'negative':0, 'positive':1  })\n",
    "df1 = df1.rename(columns = {'Class':'category'})\n",
    "df3['Class'] = df3['Class'].replace({'negative':0, 'positive':1  })\n",
    "df3 = df3.rename(columns = {'Class':'category'})\n",
    "df6['Class'] = df6['Class'].replace({'negative':0, 'positive':1  })\n",
    "df6 = df6.rename(columns = {'Class':'category'})"
   ]
  },
  {
   "cell_type": "markdown",
   "metadata": {},
   "source": [
    "### Train/Test/Validate\n",
    "\n",
    "When training predictive models, it is standard practice to split a dataset into a training set, a testing set and a validation set.  The validation set is locked in a proverbial vault and only used after model selection to give the error rates/scores.  This setup helps prevent overfitting and ensures generalizability of the model.  However, for smaller datasets and, especially those with large imbalances, this approach is not always available.  We combine training and testing for Yeast1 and Yeast3, by using cross-validation, but still split off a validation set.\n",
    "\n",
    "For Yeast6 we only use cross-validation for evaluation.  This leaves us not knowing the generalizability of these models, but the alternative is training models on an even smaller set of data than we already have. \n",
    "\n",
    "Further, since our goal is to illustrate the behavior of SMOTE, we also do a cross-validation training on the full Yeast1 and Yeast3 data sets to compare to the performance when we split the sets.  Note in practice, one should ALWAYS validate models whenever possible and the challenge we face here is not due to the percentage of the minority class, but the fact that there are fewer than 50 samples in the case of Yeast6.    "
   ]
  },
  {
   "cell_type": "code",
   "execution_count": 13,
   "metadata": {
    "collapsed": false
   },
   "outputs": [],
   "source": [
    "# Splitting Yeast1 into training and validation dataframes. \n",
    "# We use 75% of the data for training and 25% for validation.\n",
    "\n",
    "df1_nuc = df1[df1.category == 1]\n",
    "df1_other = df1[df1.category==0]\n",
    "train_nuc = df1_nuc.sample(frac = 0.75)\n",
    "train_other = df1_other.sample(frac = 0.75)\n",
    "validate_nuc = df1_nuc[~df1_nuc.index.isin(train_nuc.index)]\n",
    "validate_other = df1_other[~df1_other.index.isin(train_other.index)]\n",
    "train1 = train_nuc.append(train_other)\n",
    "validate1 = validate_nuc.append(validate_other)"
   ]
  },
  {
   "cell_type": "code",
   "execution_count": 14,
   "metadata": {
    "collapsed": true
   },
   "outputs": [],
   "source": [
    "# Splitting Yeast3 into training and validation dataframes. \n",
    "\n",
    "df3_nuc = df3[df3.category == 1]\n",
    "df3_other = df3[df3.category==0]\n",
    "train_nuc = df3_nuc.sample(frac = 0.75, random_state = 17)\n",
    "train_other = df3_other.sample(frac = 0.75, random_state = 42)\n",
    "validate_nuc = df3_nuc[~df3_nuc.index.isin(train_nuc.index)]\n",
    "validate_other = df3_other[~df3_other.index.isin(train_other.index)]\n",
    "train3 = train_nuc.append(train_other)\n",
    "validate3 = validate_nuc.append(validate_other)"
   ]
  },
  {
   "cell_type": "markdown",
   "metadata": {
    "collapsed": true
   },
   "source": [
    "## Graphing the data\n",
    "\n",
    "We run graph the first two components of the principal components analysis so we can get a 2-D picture to see what, if any separation there is between the classes.  This will give us a sense of whether or not we expect models to perform well and if we should be thinking linearly, or, for example, try a non-linear model like svm with rbf kernel. \n",
    "\n",
    "For Yeast1 and Yeast3 we graph the training sets.  "
   ]
  },
  {
   "cell_type": "code",
   "execution_count": 15,
   "metadata": {
    "collapsed": false
   },
   "outputs": [],
   "source": [
    "X_columns = list(df1.columns.values)[:-1]\n",
    "X1 = train1.as_matrix(columns = X_columns)\n",
    "y1 = (train1['category'].as_matrix()).reshape(len(train1.index),1)\n",
    "\n",
    "X3 = train3.as_matrix(columns = X_columns)\n",
    "y3 = (train3['category'].as_matrix()).reshape(len(train3.index),1)\n",
    "\n",
    "X6 = df6.as_matrix(columns = X_columns)\n",
    "y6 = (df6['category'].as_matrix()).reshape(len(df6.index),1)"
   ]
  },
  {
   "cell_type": "code",
   "execution_count": 16,
   "metadata": {
    "collapsed": true
   },
   "outputs": [],
   "source": [
    "target_names = ['other', 'protein location']"
   ]
  },
  {
   "cell_type": "code",
   "execution_count": 17,
   "metadata": {
    "collapsed": false
   },
   "outputs": [
    {
     "data": {
      "image/png": "[encoded data removed]",
      "text/plain": [
       "<matplotlib.figure.Figure at 0x118c70310>"
      ]
     },
     "metadata": {},
     "output_type": "display_data"
    }
   ],
   "source": [
    "X_graph = X1\n",
    "y_graph = y1\n",
    "\n",
    "pca = PCA(n_components=2)\n",
    "X_r = pca.fit(X_graph).transform(X_graph)\n",
    "X_r0 = (X_r[:,0]).reshape((X_r[:,0]).shape[0],1)\n",
    "X_r1 = (X_r[:,1]).reshape((X_r[:,1]).shape[0],1)\n",
    "\n",
    "plt.figure(figsize=(10,10))\n",
    "for c, i, target_name in zip(\"rg\", [0, 1], target_names):\n",
    "    plt.scatter(X_r0[y_graph == i], X_r1[y_graph == i], c=c, label=target_name)\n",
    "plt.legend()\n",
    "plt.title('PCA')\n",
    "\n",
    "plt.show()"
   ]
  },
  {
   "cell_type": "code",
   "execution_count": 18,
   "metadata": {
    "collapsed": false
   },
   "outputs": [
    {
     "data": {
      "image/png": "[encoded data removed]",
      "text/plain": [
       "<matplotlib.figure.Figure at 0x118c702d0>"
      ]
     },
     "metadata": {},
     "output_type": "display_data"
    }
   ],
   "source": [
    "X_graph = X3\n",
    "y_graph = y3\n",
    "\n",
    "pca = PCA(n_components=2)\n",
    "X_r = pca.fit(X_graph).transform(X_graph)\n",
    "X_r0 = (X_r[:,0]).reshape((X_r[:,0]).shape[0],1)\n",
    "X_r1 = (X_r[:,1]).reshape((X_r[:,1]).shape[0],1)\n",
    "\n",
    "plt.figure(figsize=(10,10))\n",
    "for c, i, target_name in zip(\"rg\", [0, 1], target_names):\n",
    "    plt.scatter(X_r0[y_graph == i], X_r1[y_graph == i], c=c, label=target_name)\n",
    "plt.legend()\n",
    "plt.title('PCA')\n",
    "\n",
    "plt.show()"
   ]
  },
  {
   "cell_type": "code",
   "execution_count": 19,
   "metadata": {
    "collapsed": false
   },
   "outputs": [
    {
     "data": {
      "image/png": "[encoded data removed]",
      "text/plain": [
       "<matplotlib.figure.Figure at 0x10208c210>"
      ]
     },
     "metadata": {},
     "output_type": "display_data"
    }
   ],
   "source": [
    "X_graph = X6\n",
    "y_graph = y6\n",
    "\n",
    "pca = PCA(n_components=2)\n",
    "X_r = pca.fit(X_graph).transform(X_graph)\n",
    "X_r0 = (X_r[:,0]).reshape((X_r[:,0]).shape[0],1)\n",
    "X_r1 = (X_r[:,1]).reshape((X_r[:,1]).shape[0],1)\n",
    "\n",
    "plt.figure(figsize=(10,10))\n",
    "for c, i, target_name in zip(\"rg\", [0, 1], target_names):\n",
    "    plt.scatter(X_r0[y_graph == i], X_r1[y_graph == i], c=c, label=target_name)\n",
    "plt.legend()\n",
    "plt.title('PCA')\n",
    "\n",
    "plt.show()"
   ]
  },
  {
   "cell_type": "markdown",
   "metadata": {},
   "source": [
    "It looks like training for Yeast1 may be tough, Yeast3 a little better and Yeast6 has some separation, but also very few samples.  While the dataset, overall, is the same, remember we took a random subsample for the graphs for Yeast1 and Yeast3.  "
   ]
  },
  {
   "cell_type": "markdown",
   "metadata": {},
   "source": [
    "## Training the models \n",
    "\n",
    "We expore the following approaches.\n",
    "1. No SMOTE\n",
    "2. SMOTE \n",
    "\n",
    "We train \n",
    "1. logistic, \n",
    "2. SVM linear kernel using LinearSVC \n",
    "3. SVM rbf kernel \n",
    "4. random forest.  \n",
    "\n",
    "We first run each of the models with default parameters or, in the case of random forests a guess we made that seemed reasonable. For the top two models, we do a hyperparameter grid search if appropriate.  We then use the final best model to validate.  Note that validation is only possible for Yeast1 and Yeast3 in our setup.  "
   ]
  },
  {
   "cell_type": "code",
   "execution_count": 21,
   "metadata": {
    "collapsed": true
   },
   "outputs": [],
   "source": [
    "#Initialize instances of each of the four models. \n",
    "\n",
    "log = LogisticRegression()\n",
    "linear_svc = LinearSVC(C=1.0, dual=False)\n",
    "svc = SVC(C = 1.0)\n",
    "rfc = RandomForestClassifier(n_estimators=200, max_depth = 10, max_features = None)\n",
    "models = [log, linear_svc, svc, rfc]"
   ]
  },
  {
   "cell_type": "markdown",
   "metadata": {},
   "source": [
    "** We first do the train/test using cross-validation on the original data sets. **"
   ]
  },
  {
   "cell_type": "code",
   "execution_count": 22,
   "metadata": {
    "collapsed": false
   },
   "outputs": [
    {
     "name": "stdout",
     "output_type": "stream",
     "text": [
      "F1 Score: 0.30 (+/- 0.14)\n",
      "F1 Score: 0.36 (+/- 0.10)\n",
      "F1 Score: 0.00 (+/- 0.00)\n",
      "F1 Score: 0.52 (+/- 0.08)\n"
     ]
    }
   ],
   "source": [
    "#Average cross-validation scores for each of the models for Yeast1, in the order \n",
    "# logistic, svm linear, svm rbf, random forest.  Before SMOTE.\n",
    "\n",
    "for model in models:\n",
    "    scores = cross_val_score(model, train1[X_columns], train1['category'], cv=5, scoring='f1')\n",
    "    print(\"F1 Score: %0.2f (+/- %0.2f)\" % (scores.mean(), scores.std() * 2))"
   ]
  },
  {
   "cell_type": "code",
   "execution_count": 23,
   "metadata": {
    "collapsed": false
   },
   "outputs": [
    {
     "name": "stdout",
     "output_type": "stream",
     "text": [
      "F1 Score: 0.03 (+/- 0.12)\n",
      "F1 Score: 0.65 (+/- 0.12)\n",
      "F1 Score: 0.00 (+/- 0.00)\n",
      "F1 Score: 0.76 (+/- 0.09)\n"
     ]
    }
   ],
   "source": [
    "#Average cross-validation scores for each of the models for Yeast1, in the order \n",
    "# logistic, svm linear, svm rbf, random forest.  Before SMOTE.\n",
    "\n",
    "for model in models:\n",
    "    scores = cross_val_score(model, train3[X_columns], train3['category'], cv=5, scoring='f1')\n",
    "    print(\"F1 Score: %0.2f (+/- %0.2f)\" % (scores.mean(), scores.std() * 2))"
   ]
  },
  {
   "cell_type": "code",
   "execution_count": 24,
   "metadata": {
    "collapsed": false
   },
   "outputs": [
    {
     "name": "stdout",
     "output_type": "stream",
     "text": [
      "F1 Score: 0.00 (+/- 0.00)\n",
      "F1 Score: 0.00 (+/- 0.00)\n",
      "F1 Score: 0.00 (+/- 0.00)\n",
      "F1 Score: 0.49 (+/- 0.12)\n"
     ]
    }
   ],
   "source": [
    "#Average cross-validation scores for each of the models for Yeast1, in the order \n",
    "# logistic, svm linear, svm rbf, random forest.  Before SMOTE.\n",
    "\n",
    "for model in models:\n",
    "    scores = cross_val_score(model, df6[X_columns], df6['category'], cv=5, scoring='f1')\n",
    "    print(\"F1 Score: %0.2f (+/- %0.2f)\" % (scores.mean(), scores.std() * 2))"
   ]
  },
  {
   "cell_type": "markdown",
   "metadata": {},
   "source": [
    "** We now run SMOTE with default parameters and repeat the train/test using cross-validation. **"
   ]
  },
  {
   "cell_type": "code",
   "execution_count": 44,
   "metadata": {
    "collapsed": false
   },
   "outputs": [
    {
     "name": "stdout",
     "output_type": "stream",
     "text": [
      "Determining classes statistics... 2 classes detected: Counter({0: 791, 1: 322})\n",
      "Finding the 5 nearest neighbours...\n",
      "done!\n",
      "Creating synthetic samples...Generated 469 new samples ...\n",
      "done!\n"
     ]
    }
   ],
   "source": [
    "#Smote for Yeast1\n",
    "\n",
    "sm = SMOTE(kind = 'regular')\n",
    "X1_sm, y1_sm = sm.fit_transform(X1,y1)\n",
    "dfsmote1 = pd.DataFrame(X1_sm, columns=X_columns)\n",
    "dfsmote1['category'] = y1_sm"
   ]
  },
  {
   "cell_type": "code",
   "execution_count": 26,
   "metadata": {
    "collapsed": false
   },
   "outputs": [
    {
     "name": "stdout",
     "output_type": "stream",
     "text": [
      "Determining classes statistics... 2 classes detected: Counter({0: 991, 1: 122})\n",
      "Finding the 5 nearest neighbours...\n",
      "done!\n",
      "Creating synthetic samples...Generated 869 new samples ...\n",
      "done!\n"
     ]
    }
   ],
   "source": [
    "#Smote for Yeast3\n",
    "\n",
    "sm = SMOTE(kind = 'regular')\n",
    "X3_sm, y3_sm = sm.fit_transform(X3,y3)\n",
    "dfsmote3 = pd.DataFrame(X3_sm, columns=X_columns)\n",
    "dfsmote3['category'] = y3_sm"
   ]
  },
  {
   "cell_type": "code",
   "execution_count": 27,
   "metadata": {
    "collapsed": false
   },
   "outputs": [
    {
     "name": "stdout",
     "output_type": "stream",
     "text": [
      "Determining classes statistics... 2 classes detected: Counter({0: 1449, 1: 35})\n",
      "Finding the 5 nearest neighbours...\n",
      "done!\n",
      "Creating synthetic samples...Generated 689 new samples ...\n",
      "done!\n"
     ]
    }
   ],
   "source": [
    "#Smote for Yeast6\n",
    "\n",
    "sm = SMOTE(kind = 'regular', ratio = 0.5)\n",
    "X6_sm, y6_sm = sm.fit_transform(X6,y6)\n",
    "dfsmote6 = pd.DataFrame(X6_sm, columns=X_columns)\n",
    "dfsmote6['category'] = y6_sm"
   ]
  },
  {
   "cell_type": "code",
   "execution_count": 28,
   "metadata": {
    "collapsed": false
   },
   "outputs": [
    {
     "name": "stdout",
     "output_type": "stream",
     "text": [
      "F1 Score: 0.72 (+/- 0.05)\n",
      "F1 Score: 0.72 (+/- 0.05)\n",
      "F1 Score: 0.73 (+/- 0.03)\n",
      "F1 Score: 0.81 (+/- 0.12)\n"
     ]
    }
   ],
   "source": [
    "for model in models:\n",
    "    scores = cross_val_score(model, dfsmote1[X_columns], dfsmote1['category'], cv=5, \n",
    "                             scoring='f1')\n",
    "    print(\"F1 Score: %0.2f (+/- %0.2f)\" % (scores.mean(), scores.std() * 2))"
   ]
  },
  {
   "cell_type": "code",
   "execution_count": 29,
   "metadata": {
    "collapsed": false
   },
   "outputs": [
    {
     "name": "stdout",
     "output_type": "stream",
     "text": [
      "F1 Score: 0.92 (+/- 0.02)\n",
      "F1 Score: 0.92 (+/- 0.03)\n",
      "F1 Score: 0.93 (+/- 0.02)\n",
      "F1 Score: 0.97 (+/- 0.04)\n"
     ]
    }
   ],
   "source": [
    "for model in models:\n",
    "    scores = cross_val_score(model, dfsmote3[X_columns], dfsmote3['category'], cv=5, \n",
    "                             scoring='f1')\n",
    "    print(\"F1 Score: %0.2f (+/- %0.2f)\" % (scores.mean(), scores.std() * 2))"
   ]
  },
  {
   "cell_type": "code",
   "execution_count": 30,
   "metadata": {
    "collapsed": false
   },
   "outputs": [
    {
     "name": "stdout",
     "output_type": "stream",
     "text": [
      "F1 Score: 0.86 (+/- 0.04)\n",
      "F1 Score: 0.86 (+/- 0.03)\n",
      "F1 Score: 0.86 (+/- 0.04)\n",
      "F1 Score: 0.96 (+/- 0.02)\n"
     ]
    }
   ],
   "source": [
    "for model in models:\n",
    "    scores = cross_val_score(model, dfsmote6[X_columns], dfsmote6['category'], cv=5, \n",
    "                             scoring='f1')\n",
    "    print(\"F1 Score: %0.2f (+/- %0.2f)\" % (scores.mean(), scores.std() * 2))"
   ]
  },
  {
   "cell_type": "markdown",
   "metadata": {},
   "source": [
    "### Tuning Hyperparameters\n",
    "\n",
    "Next we need tune some of the key hyperparameters for these models.  We again do this for both the original data and the smote data to illustrate differences.  For Yeast1 and Yeast6 we restrict this to linear svm and random forest since they perform the best for both the raw data and the smote data.  For Yeast3 before SMOTE linear svm performs well with rbf svm edging it out after SMOTE.  Again, since our goal is to see the role of SMOTE, we include rbf and linear, both as parameters to tune to svc for Yeast3.  While svc with linear kernel works a little differently from LinearSVC.  "
   ]
  },
  {
   "cell_type": "code",
   "execution_count": 35,
   "metadata": {
    "collapsed": true
   },
   "outputs": [],
   "source": [
    "#To use gridsearch we have to change the shape of the y-vectors. \n",
    "y1 = train1['category'].as_matrix()\n",
    "y3 = train3['category'].as_matrix()\n",
    "y6 = df6['category'].as_matrix()"
   ]
  },
  {
   "cell_type": "code",
   "execution_count": 36,
   "metadata": {
    "collapsed": false
   },
   "outputs": [],
   "source": [
    "#Parameters to tune for random forest. Since the number of features is small, \n",
    "#we don't tune 'max_features'\n",
    "\n",
    "tuned_parameters_rfc = [{'class_weight':(None,'balanced'),  \n",
    "                     'max_depth':range(1,11), 'n_estimators':range(50, 310, 50), \n",
    "                         'criterion':('gini','entropy')\n",
    "                        }]"
   ]
  },
  {
   "cell_type": "markdown",
   "metadata": {},
   "source": [
    "Tune Random Forest for all three data sets ** before ** SMOTE "
   ]
  },
  {
   "cell_type": "code",
   "execution_count": 38,
   "metadata": {
    "collapsed": false
   },
   "outputs": [
    {
     "name": "stdout",
     "output_type": "stream",
     "text": [
      "\n",
      "Tuning hyper-parameters for f1\n",
      "Best parameters set found on training set:\n",
      "{'n_estimators': 100, 'criterion': 'entropy', 'max_depth': 10, 'class_weight': None}\n",
      "F1 Score: 0.50 (+/- 0.09)\n"
     ]
    }
   ],
   "source": [
    "#Yeast1\n",
    "print(\"\\nTuning hyper-parameters for %s\" % 'f1')\n",
    "clf = GridSearchCV(RandomForestClassifier(), tuned_parameters_rfc, cv=5,\n",
    "                       scoring='%s_weighted' % 'f1')\n",
    "clf.fit(X1, y1)\n",
    "\n",
    "print(\"Best parameters set found on training set:\")\n",
    "print(clf.best_params_)\n",
    "best_params = clf.best_params_\n",
    "clf = RandomForestClassifier(class_weight=best_params['class_weight'],\n",
    "                             max_depth = best_params['max_depth'],\n",
    "                             n_estimators = best_params['n_estimators'],\n",
    "                            criterion = best_params['criterion'])\n",
    "scores = cross_val_score(clf,X1, y1, cv=5, scoring='f1')\n",
    "print(\"F1 Score: %0.2f (+/- %0.2f)\" % (scores.mean(), scores.std()*2))"
   ]
  },
  {
   "cell_type": "code",
   "execution_count": 39,
   "metadata": {
    "collapsed": false
   },
   "outputs": [
    {
     "name": "stdout",
     "output_type": "stream",
     "text": [
      "\n",
      "Tuning hyper-parameters for f1\n",
      "Best parameters set found on training set:\n",
      "{'n_estimators': 200, 'criterion': 'gini', 'max_depth': 5, 'class_weight': 'balanced'}\n",
      "F1 Score: 0.81 (+/- 0.09)\n"
     ]
    }
   ],
   "source": [
    "#Yeast3\n",
    "print(\"\\nTuning hyper-parameters for %s\" % 'f1')\n",
    "clf = GridSearchCV(RandomForestClassifier(), tuned_parameters_rfc, cv=5,\n",
    "                       scoring='%s_weighted' % 'f1')\n",
    "clf.fit(X3, y3)\n",
    "\n",
    "print(\"Best parameters set found on training set:\")\n",
    "print(clf.best_params_)\n",
    "best_params = clf.best_params_\n",
    "clf = RandomForestClassifier(class_weight=best_params['class_weight'],\n",
    "                             max_depth = best_params['max_depth'],\n",
    "                             n_estimators = best_params['n_estimators'],\n",
    "                            criterion = best_params['criterion'])\n",
    "scores = cross_val_score(clf,X3, y3, cv=5, scoring='f1')\n",
    "print(\"F1 Score: %0.2f (+/- %0.2f)\" % (scores.mean(), scores.std()*2))"
   ]
  },
  {
   "cell_type": "code",
   "execution_count": 40,
   "metadata": {
    "collapsed": false
   },
   "outputs": [
    {
     "name": "stdout",
     "output_type": "stream",
     "text": [
      "\n",
      "Tuning hyper-parameters for f1\n",
      "Best parameters set found on training set:\n",
      "{'n_estimators': 150, 'criterion': 'entropy', 'max_depth': 9, 'class_weight': 'balanced'}\n",
      "F1 Score: 0.56 (+/- 0.23)\n"
     ]
    }
   ],
   "source": [
    "#Yeast6\n",
    "print(\"\\nTuning hyper-parameters for %s\" % 'f1')\n",
    "clf = GridSearchCV(RandomForestClassifier(), tuned_parameters_rfc, cv=5,\n",
    "                       scoring='%s_weighted' % 'f1')\n",
    "clf.fit(X6, y6)\n",
    "\n",
    "print(\"Best parameters set found on training set:\")\n",
    "print(clf.best_params_)\n",
    "best_params = clf.best_params_\n",
    "clf = RandomForestClassifier(class_weight=best_params['class_weight'],\n",
    "                             max_depth = best_params['max_depth'],\n",
    "                             n_estimators = best_params['n_estimators'],\n",
    "                            criterion = best_params['criterion'])\n",
    "scores = cross_val_score(clf,X6, y6, cv=5, scoring='f1')\n",
    "print(\"F1 Score: %0.2f (+/- %0.2f)\" % (scores.mean(), scores.std()*2))"
   ]
  },
  {
   "cell_type": "markdown",
   "metadata": {},
   "source": [
    "Tune Random Forest for all three data sets **after** SMOTE"
   ]
  },
  {
   "cell_type": "code",
   "execution_count": 45,
   "metadata": {
    "collapsed": false
   },
   "outputs": [
    {
     "name": "stdout",
     "output_type": "stream",
     "text": [
      "\n",
      "Tuning hyper-parameters for f1\n",
      "Best parameters set found on training set:\n",
      "{'n_estimators': 150, 'criterion': 'gini', 'max_depth': 10, 'class_weight': None}\n",
      "F1 Score: 0.81 (+/- 0.12)\n"
     ]
    }
   ],
   "source": [
    "#Yeast1\n",
    "print(\"\\nTuning hyper-parameters for %s\" % 'f1')\n",
    "clf = GridSearchCV(RandomForestClassifier(), tuned_parameters_rfc, cv=5,\n",
    "                       scoring='%s_weighted' % 'f1')\n",
    "clf.fit(X1_sm, y1_sm)\n",
    "\n",
    "print(\"Best parameters set found on training set:\")\n",
    "print(clf.best_params_)\n",
    "best_params = clf.best_params_\n",
    "clf = RandomForestClassifier(class_weight=best_params['class_weight'],\n",
    "                             max_depth = best_params['max_depth'],\n",
    "                             n_estimators = best_params['n_estimators'],\n",
    "                            criterion = best_params['criterion'])\n",
    "scores = cross_val_score(clf,X1_sm, y1_sm, cv=5, scoring='f1')\n",
    "print(\"F1 Score: %0.2f (+/- %0.2f)\" % (scores.mean(), scores.std()*2))"
   ]
  },
  {
   "cell_type": "code",
   "execution_count": 43,
   "metadata": {
    "collapsed": false
   },
   "outputs": [
    {
     "name": "stdout",
     "output_type": "stream",
     "text": [
      "\n",
      "Tuning hyper-parameters for f1\n",
      "Best parameters set found on training set:\n",
      "{'n_estimators': 300, 'criterion': 'gini', 'max_depth': 10, 'class_weight': 'balanced'}\n",
      "F1 Score: 0.97 (+/- 0.03)\n"
     ]
    }
   ],
   "source": [
    "#Yeast3\n",
    "print(\"\\nTuning hyper-parameters for %s\" % 'f1')\n",
    "clf = GridSearchCV(RandomForestClassifier(), tuned_parameters_rfc, cv=5,\n",
    "                       scoring='%s_weighted' % 'f1')\n",
    "clf.fit(X3_sm, y3_sm)\n",
    "\n",
    "print(\"Best parameters set found on training set:\")\n",
    "print(clf.best_params_)\n",
    "best_params = clf.best_params_\n",
    "clf = RandomForestClassifier(class_weight=best_params['class_weight'],\n",
    "                             max_depth = best_params['max_depth'],\n",
    "                             n_estimators = best_params['n_estimators'],\n",
    "                            criterion = best_params['criterion'])\n",
    "scores = cross_val_score(clf,X3_sm, y3_sm, cv=5, scoring='f1')\n",
    "print(\"F1 Score: %0.2f (+/- %0.2f)\" % (scores.mean(), scores.std()*2))"
   ]
  },
  {
   "cell_type": "code",
   "execution_count": 46,
   "metadata": {
    "collapsed": false
   },
   "outputs": [
    {
     "name": "stdout",
     "output_type": "stream",
     "text": [
      "\n",
      "Tuning hyper-parameters for f1\n",
      "Best parameters set found on training set:\n",
      "{'n_estimators': 300, 'criterion': 'gini', 'max_depth': 10, 'class_weight': 'balanced'}\n",
      "F1 Score: 0.97 (+/- 0.03)\n"
     ]
    }
   ],
   "source": [
    "#Yeast6\n",
    "print(\"\\nTuning hyper-parameters for %s\" % 'f1')\n",
    "clf = GridSearchCV(RandomForestClassifier(), tuned_parameters_rfc, cv=5,\n",
    "                       scoring='%s_weighted' % 'f1')\n",
    "clf.fit(X6_sm, y6_sm)\n",
    "\n",
    "print(\"Best parameters set found on training set:\")\n",
    "print(clf.best_params_)\n",
    "best_params = clf.best_params_\n",
    "clf = RandomForestClassifier(class_weight=best_params['class_weight'],\n",
    "                             max_depth = best_params['max_depth'],\n",
    "                             n_estimators = best_params['n_estimators'],\n",
    "                            criterion = best_params['criterion'])\n",
    "scores = cross_val_score(clf,X6_sm, y6_sm, cv=5, scoring='f1')\n",
    "print(\"F1 Score: %0.2f (+/- %0.2f)\" % (scores.mean(), scores.std()*2))"
   ]
  },
  {
   "cell_type": "markdown",
   "metadata": {},
   "source": [
    "Tune LinearSVC for Yeast1 and Yeast6 ** before ** SMOTE "
   ]
  },
  {
   "cell_type": "code",
   "execution_count": 47,
   "metadata": {
    "collapsed": true
   },
   "outputs": [],
   "source": [
    "tuned_parameters_linearSVC = [{'class_weight':(None,'balanced'), 'penalty':('l1','l2'), \n",
    "                               'C':np.linspace(0.1,1,10)}]"
   ]
  },
  {
   "cell_type": "code",
   "execution_count": 48,
   "metadata": {
    "collapsed": false
   },
   "outputs": [
    {
     "name": "stdout",
     "output_type": "stream",
     "text": [
      "\n",
      "Tuning hyper-parameters for f1\n",
      "Best parameters set found on training set:\n",
      "{'penalty': 'l1', 'C': 0.20000000000000001, 'class_weight': 'balanced'}\n",
      "F1 Score: 0.59 (+/- 0.05)\n"
     ]
    }
   ],
   "source": [
    "#Yeast1\n",
    "print(\"\\nTuning hyper-parameters for %s\" % 'f1')\n",
    "clf = GridSearchCV(LinearSVC(dual=False), tuned_parameters_linearSVC, cv=5,\n",
    "                       scoring='%s_weighted' % 'f1')\n",
    "clf.fit(X1, y1)\n",
    "\n",
    "print(\"Best parameters set found on training set:\")\n",
    "print(clf.best_params_)\n",
    "best_params = clf.best_params_\n",
    "clf = LinearSVC(class_weight=best_params['class_weight'],\n",
    "                    penalty = best_params['penalty'],\n",
    "                    C = best_params['C'], dual=False)\n",
    "scores = cross_val_score(clf, X1, y1, cv = 5, scoring = 'f1')\n",
    "print(\"F1 Score: %0.2f (+/- %0.2f)\" % (scores.mean(), scores.std()*2))"
   ]
  },
  {
   "cell_type": "code",
   "execution_count": 49,
   "metadata": {
    "collapsed": false
   },
   "outputs": [
    {
     "name": "stdout",
     "output_type": "stream",
     "text": [
      "\n",
      "Tuning hyper-parameters for f1\n",
      "Best parameters set found on training set:\n",
      "{'penalty': 'l1', 'C': 0.10000000000000001, 'class_weight': None}\n",
      "F1 Score: 0.00 (+/- 0.00)\n"
     ]
    }
   ],
   "source": [
    "#Yeast6\n",
    "print(\"\\nTuning hyper-parameters for %s\" % 'f1')\n",
    "clf = GridSearchCV(LinearSVC(dual=False), tuned_parameters_linearSVC, cv=5,\n",
    "                       scoring='%s_weighted' % 'f1')\n",
    "clf.fit(X6, y6)\n",
    "\n",
    "print(\"Best parameters set found on training set:\")\n",
    "print(clf.best_params_)\n",
    "best_params = clf.best_params_\n",
    "clf = LinearSVC(class_weight=best_params['class_weight'],\n",
    "                    penalty = best_params['penalty'],\n",
    "                    C = best_params['C'], dual=False)\n",
    "scores = cross_val_score(clf, X6, y6, cv = 5, scoring = 'f1')\n",
    "print(\"F1 Score: %0.2f (+/- %0.2f)\" % (scores.mean(), scores.std()*2))"
   ]
  },
  {
   "cell_type": "markdown",
   "metadata": {},
   "source": [
    "Tune LinearSVC for Yeast1 and Yeast6 ** after ** SMOTE "
   ]
  },
  {
   "cell_type": "code",
   "execution_count": 50,
   "metadata": {
    "collapsed": false
   },
   "outputs": [
    {
     "name": "stdout",
     "output_type": "stream",
     "text": [
      "\n",
      "Tuning hyper-parameters for f1\n",
      "Best parameters set found on training set:\n",
      "{'penalty': 'l1', 'C': 0.5, 'class_weight': 'balanced'}\n",
      "F1 Score: 0.71 (+/- 0.01)\n"
     ]
    }
   ],
   "source": [
    "#Yeast1\n",
    "print(\"\\nTuning hyper-parameters for %s\" % 'f1')\n",
    "clf = GridSearchCV(LinearSVC(dual=False), tuned_parameters_linearSVC, cv=5,\n",
    "                       scoring='%s_weighted' % 'f1')\n",
    "clf.fit(X1_sm, y1_sm)\n",
    "\n",
    "print(\"Best parameters set found on training set:\")\n",
    "print(clf.best_params_)\n",
    "best_params = clf.best_params_\n",
    "clf = LinearSVC(class_weight=best_params['class_weight'],\n",
    "                    penalty = best_params['penalty'],\n",
    "                    C = best_params['C'], dual=False)\n",
    "scores = cross_val_score(clf,X1_sm, y1_sm, cv=5, scoring='f1')\n",
    "print(\"F1 Score: %0.2f (+/- %0.2f)\" % (scores.mean(), scores.std()*2))"
   ]
  },
  {
   "cell_type": "code",
   "execution_count": 51,
   "metadata": {
    "collapsed": false
   },
   "outputs": [
    {
     "name": "stdout",
     "output_type": "stream",
     "text": [
      "\n",
      "Tuning hyper-parameters for f1\n",
      "Best parameters set found on training set:\n",
      "{'penalty': 'l2', 'C': 0.20000000000000001, 'class_weight': None}\n",
      "F1 Score: 0.87 (+/- 0.04)\n"
     ]
    }
   ],
   "source": [
    "#Yeast6\n",
    "print(\"\\nTuning hyper-parameters for %s\" % 'f1')\n",
    "clf = GridSearchCV(LinearSVC(dual=False), tuned_parameters_linearSVC, cv=5,\n",
    "                       scoring='%s_weighted' % 'f1')\n",
    "clf.fit(X6_sm, y6_sm)\n",
    "\n",
    "print(\"Best parameters set found on training set:\")\n",
    "print(clf.best_params_)\n",
    "best_params = clf.best_params_\n",
    "clf = LinearSVC(class_weight=best_params['class_weight'],\n",
    "                    penalty = best_params['penalty'],\n",
    "                    C = best_params['C'], dual=False)\n",
    "scores = cross_val_score(clf, X6_sm, y6_sm, cv = 5, scoring = 'f1')\n",
    "print(\"F1 Score: %0.2f (+/- %0.2f)\" % (scores.mean(), scores.std()*2))"
   ]
  },
  {
   "cell_type": "markdown",
   "metadata": {},
   "source": [
    "Tune SVC for Yeast3 ** before ** SMOTE "
   ]
  },
  {
   "cell_type": "code",
   "execution_count": 52,
   "metadata": {
    "collapsed": true
   },
   "outputs": [],
   "source": [
    "tuned_parameters_SVC = [{'class_weight':(None,'balanced'), \n",
    "                               'C':np.linspace(0.1,1,10), 'kernel':('linear', 'rbf')}]"
   ]
  },
  {
   "cell_type": "code",
   "execution_count": 53,
   "metadata": {
    "collapsed": false
   },
   "outputs": [
    {
     "name": "stdout",
     "output_type": "stream",
     "text": [
      "\n",
      "Tuning hyper-parameters for f1\n",
      "Best parameters set found on training set:\n",
      "{'kernel': 'linear', 'C': 1.0, 'class_weight': 'balanced'}\n",
      "F1 Score: 0.68 (+/- 0.07)\n"
     ]
    }
   ],
   "source": [
    "print(\"\\nTuning hyper-parameters for %s\" % 'f1')\n",
    "clf = GridSearchCV(SVC(), tuned_parameters_SVC, cv=5,\n",
    "                       scoring='%s_weighted' % 'f1')\n",
    "clf.fit(X3, y3)\n",
    "\n",
    "print(\"Best parameters set found on training set:\")\n",
    "print(clf.best_params_)\n",
    "best_params = clf.best_params_\n",
    "clf = SVC(class_weight=best_params['class_weight'],\n",
    "                    kernel = best_params['kernel'],\n",
    "                    C = best_params['C'])\n",
    "scores = cross_val_score(clf, X3, y3, cv = 5, scoring = 'f1')\n",
    "print(\"F1 Score: %0.2f (+/- %0.2f)\" % (scores.mean(), scores.std()*2))"
   ]
  },
  {
   "cell_type": "markdown",
   "metadata": {},
   "source": [
    "Tune SVC for Yeast3 ** after ** SMOTE "
   ]
  },
  {
   "cell_type": "code",
   "execution_count": 54,
   "metadata": {
    "collapsed": false
   },
   "outputs": [
    {
     "name": "stdout",
     "output_type": "stream",
     "text": [
      "\n",
      "Tuning hyper-parameters for f1\n",
      "Best parameters set found on training set:\n",
      "{'kernel': 'rbf', 'C': 0.90000000000000002, 'class_weight': None}\n",
      "F1 Score: 0.93 (+/- 0.02)\n"
     ]
    }
   ],
   "source": [
    "print(\"\\nTuning hyper-parameters for %s\" % 'f1')\n",
    "clf = GridSearchCV(SVC(), tuned_parameters_SVC, cv=5,\n",
    "                       scoring='%s_weighted' % 'f1')\n",
    "clf.fit(X3_sm, y3_sm)\n",
    "\n",
    "print(\"Best parameters set found on training set:\")\n",
    "print(clf.best_params_)\n",
    "best_params = clf.best_params_\n",
    "clf = SVC(class_weight=best_params['class_weight'],\n",
    "                    kernel = best_params['kernel'],\n",
    "                    C = best_params['C'])\n",
    "scores = cross_val_score(clf, X3_sm, y3_sm, cv = 5, scoring = 'f1')\n",
    "print(\"F1 Score: %0.2f (+/- %0.2f)\" % (scores.mean(), scores.std()*2))"
   ]
  },
  {
   "cell_type": "markdown",
   "metadata": {},
   "source": [
    "### Validation\n",
    "We now set up the best models for each of Yeast1 and Yeast3 both before and after SMOTE and validate.  Ordinarily you would only pick the best model, but we want to compare the validation performance of pre and post-SMOTE.  So far the SMOTE models have done much better, but validation is the real test. Also for further comparison, while random forest has a higher F1 score for Yeast3, the svn rbf kernel is close enough for the SMOTE data that we "
   ]
  },
  {
   "cell_type": "code",
   "execution_count": 66,
   "metadata": {
    "collapsed": false
   },
   "outputs": [],
   "source": [
    "# The Models\n",
    "rfc1 = RandomForestClassifier(n_estimators = 100, criterion= 'entropy', \n",
    "                              max_depth = 10, class_weight = None)\n",
    "rfc3 = RandomForestClassifier(n_estimators = 200, criterion = 'gini', \n",
    "                              max_depth = 5, class_weight = 'balanced')\n",
    "rfc1_sm = RandomForestClassifier(n_estimators = 150, criterion = 'gini', \n",
    "                                 max_depth = 10, class_weight = None)\n",
    "rfc3_sm = RandomForestClassifier(n_estimators = 300, criterion = 'gini', \n",
    "                                 max_depth = 10, class_weight = 'balanced')\n",
    "svc1 = LinearSVC(penalty = 'l1', C = 0.2, class_weight = 'balanced', dual = False)\n",
    "svc3 = SVC(kernel = 'linear', C = 1.0, class_weight = 'balanced')\n",
    "svc1_sm = LinearSVC(penalty = 'l1', C = 0.5, class_weight = 'balanced', dual = False)\n",
    "svc3_sm = SVC(kernel = 'rbf', C = 0.9, class_weight =  None)"
   ]
  },
  {
   "cell_type": "code",
   "execution_count": 67,
   "metadata": {
    "collapsed": false
   },
   "outputs": [],
   "source": [
    "#Set up arrays from the pandas dataframe.\n",
    "X_val1 = validate1.as_matrix(columns = X_columns)\n",
    "y_val1 = (validate1['category'].as_matrix()).reshape(len(validate1.index),1)\n",
    "\n",
    "X_val3 = validate3.as_matrix(columns = X_columns)\n",
    "y_val3 = (validate3['category'].as_matrix()).reshape(len(validate3.index),1)"
   ]
  },
  {
   "cell_type": "code",
   "execution_count": 68,
   "metadata": {
    "collapsed": false
   },
   "outputs": [],
   "source": [
    "# Fit the models\n",
    "\n",
    "rfc1 = rfc1.fit(X1,y1)\n",
    "rfc3 = rfc3.fit(X3, y3)\n",
    "rfc1_sm = rfc1_sm.fit(X1_sm, y1_sm)\n",
    "frc3_sm = rfc3_sm.fit(X3_sm, y3_sm)\n",
    "svc1 = svc1.fit(X1,y1)\n",
    "svc3 = svc3.fit(X3,y3)\n",
    "svc1_sm = svc1_sm.fit(X1_sm, y1_sm)\n",
    "svc3_sm = svc3_sm.fit(X3_sm, y3_sm)"
   ]
  },
  {
   "cell_type": "code",
   "execution_count": 70,
   "metadata": {
    "collapsed": false
   },
   "outputs": [
    {
     "name": "stdout",
     "output_type": "stream",
     "text": [
      "0.577777777778\n",
      "0.65\n",
      "0.563492063492\n",
      "0.551724137931\n",
      "0.790697674419\n",
      "0.758620689655\n",
      "0.0693069306931\n",
      "0.0660377358491\n"
     ]
    }
   ],
   "source": [
    "# Evaluate the f1 scores.\n",
    "\n",
    "print f1_score(y_val1, rfc1.predict(X_val1), average='binary')\n",
    "print f1_score(y_val1, rfc1_sm.predict(X_val1), average='binary')\n",
    "\n",
    "print f1_score(y_val1, svc1.predict(X_val1), average='binary')\n",
    "print f1_score(y_val1, svc1_sm.predict(X_val1), average='binary')\n",
    "\n",
    "print f1_score(y_val3, rfc3.predict(X_val3), average='binary')\n",
    "print f1_score(y_val3, rfc3_sm.predict(X_val3), average='binary')\n",
    "\n",
    "print f1_score(y_val3, svc1.predict(X_val3), average='binary')\n",
    "print f1_score(y_val3, svc1_sm.predict(X_val3), average='binary')"
   ]
  },
  {
   "cell_type": "code",
   "execution_count": null,
   "metadata": {
    "collapsed": true
   },
   "outputs": [],
   "source": []
  }
 ],
 "metadata": {
  "kernelspec": {
   "display_name": "Python 2",
   "language": "python",
   "name": "python2"
  },
  "language_info": {
   "codemirror_mode": {
    "name": "ipython",
    "version": 2
   },
   "file_extension": ".py",
   "mimetype": "text/x-python",
   "name": "python",
   "nbconvert_exporter": "python",
   "pygments_lexer": "ipython2",
   "version": "2.7.11"
  }
 },
 "nbformat": 4,
 "nbformat_minor": 0
}
